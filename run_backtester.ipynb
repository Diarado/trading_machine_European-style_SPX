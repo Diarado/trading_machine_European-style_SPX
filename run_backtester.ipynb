{
 "cells": [
  {
   "cell_type": "code",
   "execution_count": null,
   "metadata": {},
   "outputs": [
    {
     "name": "stdout",
     "output_type": "stream",
     "text": [
      "Loading parsed options data from data/parsed_options_data.pkl\n",
      "underlying_today: \n",
      "                 date       open       high        low      close  adj close  \\\n",
      "0 2024-01-02 14:30:00  47.452002  47.452002  47.309502  47.362598  47.362598   \n",
      "1 2024-01-02 15:30:00  47.361001  47.424399  47.311699  47.411201  47.411201   \n",
      "2 2024-01-02 16:30:00  47.411201  47.512202  47.408901  47.475498  47.475498   \n",
      "3 2024-01-02 17:30:00  47.475498  47.543301  47.409199  47.447998  47.447998   \n",
      "4 2024-01-02 18:30:00  47.448101  47.472202  47.336699  47.370200  47.370200   \n",
      "5 2024-01-02 19:30:00  47.369702  47.383398  47.226699  47.267900  47.267900   \n",
      "6 2024-01-02 20:30:00  47.267500  47.441401  47.246699  47.430400  47.430400   \n",
      "\n",
      "      volume  \n",
      "0          0  \n",
      "1  292380245  \n",
      "2  217999404  \n",
      "3  185937425  \n",
      "4  194942000  \n",
      "5  240464000  \n",
      "6  362206000  \n",
      "dates: \n",
      "[datetime.time(14, 30), datetime.time(15, 30), datetime.time(16, 30), datetime.time(17, 30), datetime.time(18, 30), datetime.time(19, 30), datetime.time(20, 30)]\n"
     ]
    },
    {
     "name": "stderr",
     "output_type": "stream",
     "text": [
      "d:\\Jiahe\\Cornell\\Fall 2024\\trading challenge\\CTC-2024-Derivatives-main\\starter_code.py:312: SettingWithCopyWarning: \n",
      "A value is trying to be set on a copy of a slice from a DataFrame.\n",
      "Try using .loc[row_indexer,col_indexer] = value instead\n",
      "\n",
      "See the caveats in the documentation: https://pandas.pydata.org/pandas-docs/stable/user_guide/indexing.html#returning-a-view-versus-a-copy\n",
      "  current_prices['time'] = current_prices['date'].dt.time\n",
      "d:\\Jiahe\\Cornell\\Fall 2024\\trading challenge\\CTC-2024-Derivatives-main\\starter_code.py:314: SettingWithCopyWarning: \n",
      "A value is trying to be set on a copy of a slice from a DataFrame.\n",
      "Try using .loc[row_indexer,col_indexer] = value instead\n",
      "\n",
      "See the caveats in the documentation: https://pandas.pydata.org/pandas-docs/stable/user_guide/indexing.html#returning-a-view-versus-a-copy\n",
      "  options_today['time'] = options_today['timestamp'].dt.time\n"
     ]
    },
    {
     "name": "stdout",
     "output_type": "stream",
     "text": [
      "underlying_today: \n",
      "                  date       open       high        low      close  adj close  \\\n",
      "7  2024-01-03 14:30:00  47.250698  47.265898  47.095601  47.132100  47.132100   \n",
      "8  2024-01-03 15:30:00  47.128701  47.168198  47.047202  47.147798  47.147798   \n",
      "9  2024-01-03 16:30:00  47.147900  47.153599  47.074399  47.131401  47.131401   \n",
      "10 2024-01-03 17:30:00  47.132598  47.250200  47.122798  47.212202  47.212202   \n",
      "11 2024-01-03 18:30:00  47.212002  47.288398  47.080298  47.274102  47.274102   \n",
      "12 2024-01-03 19:30:00  47.274102  47.292900  47.079502  47.104702  47.104702   \n",
      "13 2024-01-03 20:30:00  47.105400  47.154902  46.997100  47.041499  47.041499   \n",
      "\n",
      "       volume  \n",
      "7   481921433  \n",
      "8   288877597  \n",
      "9   209994008  \n",
      "10  186819962  \n",
      "11  202877000  \n",
      "12  237776000  \n",
      "13  363315000  \n",
      "dates: \n",
      "[datetime.time(14, 30), datetime.time(15, 30), datetime.time(16, 30), datetime.time(17, 30), datetime.time(18, 30), datetime.time(19, 30), datetime.time(20, 30)]\n"
     ]
    },
    {
     "name": "stderr",
     "output_type": "stream",
     "text": [
      "d:\\Jiahe\\Cornell\\Fall 2024\\trading challenge\\CTC-2024-Derivatives-main\\starter_code.py:312: SettingWithCopyWarning: \n",
      "A value is trying to be set on a copy of a slice from a DataFrame.\n",
      "Try using .loc[row_indexer,col_indexer] = value instead\n",
      "\n",
      "See the caveats in the documentation: https://pandas.pydata.org/pandas-docs/stable/user_guide/indexing.html#returning-a-view-versus-a-copy\n",
      "  current_prices['time'] = current_prices['date'].dt.time\n",
      "d:\\Jiahe\\Cornell\\Fall 2024\\trading challenge\\CTC-2024-Derivatives-main\\starter_code.py:314: SettingWithCopyWarning: \n",
      "A value is trying to be set on a copy of a slice from a DataFrame.\n",
      "Try using .loc[row_indexer,col_indexer] = value instead\n",
      "\n",
      "See the caveats in the documentation: https://pandas.pydata.org/pandas-docs/stable/user_guide/indexing.html#returning-a-view-versus-a-copy\n",
      "  options_today['time'] = options_today['timestamp'].dt.time\n"
     ]
    },
    {
     "name": "stdout",
     "output_type": "stream",
     "text": [
      "underlying_today: \n",
      "                  date       open       high        low      close  adj close  \\\n",
      "14 2024-01-04 14:30:00  46.974199  47.185898  46.961499  47.150898  47.150898   \n",
      "15 2024-01-04 15:30:00  47.150898  47.267798  47.137300  47.236602  47.236602   \n",
      "16 2024-01-04 16:30:00  47.237798  47.253799  47.103799  47.129302  47.129302   \n",
      "17 2024-01-04 17:30:00  47.130400  47.131401  47.040000  47.102700  47.102700   \n",
      "18 2024-01-04 18:30:00  47.102798  47.116899  47.027202  47.028501  47.028501   \n",
      "19 2024-01-04 19:30:00  47.028701  47.072100  46.980801  46.998101  46.998101   \n",
      "20 2024-01-04 20:30:00  46.998101  47.037700  46.875298  46.897002  46.897002   \n",
      "\n",
      "       volume  \n",
      "14          0  \n",
      "15  280999809  \n",
      "16  215631549  \n",
      "17  167294785  \n",
      "18  169020000  \n",
      "19  213660000  \n",
      "20  358302000  \n",
      "dates: \n",
      "[datetime.time(14, 30), datetime.time(15, 30), datetime.time(16, 30), datetime.time(17, 30), datetime.time(18, 30), datetime.time(19, 30), datetime.time(20, 30)]\n"
     ]
    },
    {
     "name": "stderr",
     "output_type": "stream",
     "text": [
      "d:\\Jiahe\\Cornell\\Fall 2024\\trading challenge\\CTC-2024-Derivatives-main\\starter_code.py:312: SettingWithCopyWarning: \n",
      "A value is trying to be set on a copy of a slice from a DataFrame.\n",
      "Try using .loc[row_indexer,col_indexer] = value instead\n",
      "\n",
      "See the caveats in the documentation: https://pandas.pydata.org/pandas-docs/stable/user_guide/indexing.html#returning-a-view-versus-a-copy\n",
      "  current_prices['time'] = current_prices['date'].dt.time\n",
      "d:\\Jiahe\\Cornell\\Fall 2024\\trading challenge\\CTC-2024-Derivatives-main\\starter_code.py:314: SettingWithCopyWarning: \n",
      "A value is trying to be set on a copy of a slice from a DataFrame.\n",
      "Try using .loc[row_indexer,col_indexer] = value instead\n",
      "\n",
      "See the caveats in the documentation: https://pandas.pydata.org/pandas-docs/stable/user_guide/indexing.html#returning-a-view-versus-a-copy\n",
      "  options_today['time'] = options_today['timestamp'].dt.time\n"
     ]
    },
    {
     "name": "stdout",
     "output_type": "stream",
     "text": [
      "underlying_today: \n",
      "                  date       open       high        low      close  adj close  \\\n",
      "21 2024-01-05 14:30:00  46.905698  47.214902  46.886899  47.126401  47.126401   \n",
      "22 2024-01-05 15:30:00  47.126201  47.214600  47.085000  47.089399  47.089399   \n",
      "23 2024-01-05 16:30:00  47.089199  47.108599  46.901001  46.907002  46.907002   \n",
      "24 2024-01-05 17:30:00  46.907900  46.957100  46.842202  46.953701  46.953701   \n",
      "25 2024-01-05 18:30:00  46.954102  47.064199  46.954102  46.992700  46.992700   \n",
      "26 2024-01-05 19:30:00  46.992700  47.018198  46.828198  46.867100  46.867100   \n",
      "27 2024-01-05 20:30:00  46.866299  46.998599  46.821099  46.966602  46.966602   \n",
      "\n",
      "       volume  \n",
      "21          0  \n",
      "22  263299710  \n",
      "23  194092894  \n",
      "24  166703757  \n",
      "25  182035000  \n",
      "26  215023000  \n",
      "27  322924000  \n",
      "dates: \n",
      "[datetime.time(14, 30), datetime.time(15, 30), datetime.time(16, 30), datetime.time(17, 30), datetime.time(18, 30), datetime.time(19, 30), datetime.time(20, 30)]\n"
     ]
    },
    {
     "name": "stderr",
     "output_type": "stream",
     "text": [
      "d:\\Jiahe\\Cornell\\Fall 2024\\trading challenge\\CTC-2024-Derivatives-main\\starter_code.py:312: SettingWithCopyWarning: \n",
      "A value is trying to be set on a copy of a slice from a DataFrame.\n",
      "Try using .loc[row_indexer,col_indexer] = value instead\n",
      "\n",
      "See the caveats in the documentation: https://pandas.pydata.org/pandas-docs/stable/user_guide/indexing.html#returning-a-view-versus-a-copy\n",
      "  current_prices['time'] = current_prices['date'].dt.time\n",
      "d:\\Jiahe\\Cornell\\Fall 2024\\trading challenge\\CTC-2024-Derivatives-main\\starter_code.py:314: SettingWithCopyWarning: \n",
      "A value is trying to be set on a copy of a slice from a DataFrame.\n",
      "Try using .loc[row_indexer,col_indexer] = value instead\n",
      "\n",
      "See the caveats in the documentation: https://pandas.pydata.org/pandas-docs/stable/user_guide/indexing.html#returning-a-view-versus-a-copy\n",
      "  options_today['time'] = options_today['timestamp'].dt.time\n"
     ]
    },
    {
     "name": "stdout",
     "output_type": "stream",
     "text": [
      "underlying_today: \n",
      "                  date       open       high        low      close  adj close  \\\n",
      "28 2024-01-08 14:30:00  47.037002  47.172798  46.999902  47.172500  47.172500   \n",
      "29 2024-01-08 15:30:00  47.172202  47.247500  47.172202  47.211699  47.211699   \n",
      "30 2024-01-08 16:30:00  47.212402  47.295298  47.212402  47.246401  47.246401   \n",
      "31 2024-01-08 17:30:00  47.246602  47.342002  47.242900  47.311499  47.311499   \n",
      "32 2024-01-08 18:30:00  47.311699  47.468501  47.310601  47.465898  47.465898   \n",
      "33 2024-01-08 19:30:00  47.466001  47.568398  47.466001  47.537598  47.537598   \n",
      "34 2024-01-08 20:30:00  47.539199  47.645400  47.532798  47.627402  47.627402   \n",
      "\n",
      "       volume  \n",
      "28          0  \n",
      "29  263865717  \n",
      "30  208525868  \n",
      "31  170452787  \n",
      "32  189786000  \n",
      "33  237688000  \n",
      "34  346947000  \n",
      "dates: \n",
      "[datetime.time(14, 30), datetime.time(15, 30), datetime.time(16, 30), datetime.time(17, 30), datetime.time(18, 30), datetime.time(19, 30), datetime.time(20, 30)]\n"
     ]
    },
    {
     "name": "stderr",
     "output_type": "stream",
     "text": [
      "d:\\Jiahe\\Cornell\\Fall 2024\\trading challenge\\CTC-2024-Derivatives-main\\starter_code.py:312: SettingWithCopyWarning: \n",
      "A value is trying to be set on a copy of a slice from a DataFrame.\n",
      "Try using .loc[row_indexer,col_indexer] = value instead\n",
      "\n",
      "See the caveats in the documentation: https://pandas.pydata.org/pandas-docs/stable/user_guide/indexing.html#returning-a-view-versus-a-copy\n",
      "  current_prices['time'] = current_prices['date'].dt.time\n",
      "d:\\Jiahe\\Cornell\\Fall 2024\\trading challenge\\CTC-2024-Derivatives-main\\starter_code.py:314: SettingWithCopyWarning: \n",
      "A value is trying to be set on a copy of a slice from a DataFrame.\n",
      "Try using .loc[row_indexer,col_indexer] = value instead\n",
      "\n",
      "See the caveats in the documentation: https://pandas.pydata.org/pandas-docs/stable/user_guide/indexing.html#returning-a-view-versus-a-copy\n",
      "  options_today['time'] = options_today['timestamp'].dt.time\n"
     ]
    },
    {
     "name": "stdout",
     "output_type": "stream",
     "text": [
      "underlying_today: \n",
      "                  date       open       high        low      close  adj close  \\\n",
      "35 2024-01-09 14:30:00  47.419302  47.461699  47.303501  47.420298  47.420298   \n",
      "36 2024-01-09 15:30:00  47.419600  47.499902  47.391401  47.497998  47.497998   \n",
      "37 2024-01-09 16:30:00  47.497500  47.603398  47.475601  47.588599  47.588599   \n",
      "38 2024-01-09 17:30:00  47.588398  47.654702  47.548701  47.552798  47.552798   \n",
      "39 2024-01-09 18:30:00  47.552100  47.627500  47.486602  47.528999  47.528999   \n",
      "40 2024-01-09 19:30:00  47.529199  47.586699  47.490200  47.543101  47.543101   \n",
      "41 2024-01-09 20:30:00  47.542700  47.583901  47.469302  47.558701  47.558701   \n",
      "\n",
      "       volume  \n",
      "35          0  \n",
      "36  252771068  \n",
      "37  214505168  \n",
      "38  183500964  \n",
      "39  199425000  \n",
      "40  231442000  \n",
      "41  341809000  \n",
      "dates: \n",
      "[datetime.time(14, 30), datetime.time(15, 30), datetime.time(16, 30), datetime.time(17, 30), datetime.time(18, 30), datetime.time(19, 30), datetime.time(20, 30)]\n"
     ]
    },
    {
     "name": "stderr",
     "output_type": "stream",
     "text": [
      "d:\\Jiahe\\Cornell\\Fall 2024\\trading challenge\\CTC-2024-Derivatives-main\\starter_code.py:312: SettingWithCopyWarning: \n",
      "A value is trying to be set on a copy of a slice from a DataFrame.\n",
      "Try using .loc[row_indexer,col_indexer] = value instead\n",
      "\n",
      "See the caveats in the documentation: https://pandas.pydata.org/pandas-docs/stable/user_guide/indexing.html#returning-a-view-versus-a-copy\n",
      "  current_prices['time'] = current_prices['date'].dt.time\n",
      "d:\\Jiahe\\Cornell\\Fall 2024\\trading challenge\\CTC-2024-Derivatives-main\\starter_code.py:314: SettingWithCopyWarning: \n",
      "A value is trying to be set on a copy of a slice from a DataFrame.\n",
      "Try using .loc[row_indexer,col_indexer] = value instead\n",
      "\n",
      "See the caveats in the documentation: https://pandas.pydata.org/pandas-docs/stable/user_guide/indexing.html#returning-a-view-versus-a-copy\n",
      "  options_today['time'] = options_today['timestamp'].dt.time\n"
     ]
    },
    {
     "name": "stdout",
     "output_type": "stream",
     "text": [
      "underlying_today: \n",
      "                  date       open       high        low      close  adj close  \\\n",
      "42 2024-01-10 14:30:00  47.599399  47.708901  47.562002  47.640698  47.640698   \n",
      "43 2024-01-10 15:30:00  47.640601  47.694800  47.615601  47.647500  47.647500   \n",
      "44 2024-01-10 16:30:00  47.647500  47.683501  47.620898  47.679800  47.679800   \n",
      "45 2024-01-10 17:30:00  47.679702  47.755498  47.658799  47.696699  47.696699   \n",
      "46 2024-01-10 18:30:00  47.697002  47.847300  47.694600  47.825400  47.825400   \n",
      "47 2024-01-10 19:30:00  47.825898  47.907998  47.763701  47.792202  47.792202   \n",
      "48 2024-01-10 20:30:00  47.792598  47.850200  47.695801  47.821499  47.821499   \n",
      "\n",
      "       volume  \n",
      "42          0  \n",
      "43  249652443  \n",
      "44  188074524  \n",
      "45  186328376  \n",
      "46  206523000  \n",
      "47  248251000  \n",
      "48  338945000  \n",
      "dates: \n",
      "[datetime.time(14, 30), datetime.time(15, 30), datetime.time(16, 30), datetime.time(17, 30), datetime.time(18, 30), datetime.time(19, 30), datetime.time(20, 30)]\n"
     ]
    },
    {
     "name": "stderr",
     "output_type": "stream",
     "text": [
      "d:\\Jiahe\\Cornell\\Fall 2024\\trading challenge\\CTC-2024-Derivatives-main\\starter_code.py:312: SettingWithCopyWarning: \n",
      "A value is trying to be set on a copy of a slice from a DataFrame.\n",
      "Try using .loc[row_indexer,col_indexer] = value instead\n",
      "\n",
      "See the caveats in the documentation: https://pandas.pydata.org/pandas-docs/stable/user_guide/indexing.html#returning-a-view-versus-a-copy\n",
      "  current_prices['time'] = current_prices['date'].dt.time\n",
      "d:\\Jiahe\\Cornell\\Fall 2024\\trading challenge\\CTC-2024-Derivatives-main\\starter_code.py:314: SettingWithCopyWarning: \n",
      "A value is trying to be set on a copy of a slice from a DataFrame.\n",
      "Try using .loc[row_indexer,col_indexer] = value instead\n",
      "\n",
      "See the caveats in the documentation: https://pandas.pydata.org/pandas-docs/stable/user_guide/indexing.html#returning-a-view-versus-a-copy\n",
      "  options_today['time'] = options_today['timestamp'].dt.time\n"
     ]
    },
    {
     "name": "stdout",
     "output_type": "stream",
     "text": [
      "underlying_today: \n",
      "                  date       open       high        low      close  adj close  \\\n",
      "49 2024-01-11 14:30:00  47.921299  47.985000  47.530601  47.665801  47.665801   \n",
      "50 2024-01-11 15:30:00  47.665898  47.721201  47.422402  47.476602  47.476602   \n",
      "51 2024-01-11 16:30:00  47.474800  47.526899  47.395801  47.463501  47.463501   \n",
      "52 2024-01-11 17:30:00  47.463599  47.666899  47.463599  47.645400  47.645400   \n",
      "53 2024-01-11 18:30:00  47.645298  47.781899  47.629600  47.775698  47.775698   \n",
      "54 2024-01-11 19:30:00  47.775898  47.860400  47.716699  47.757100  47.757100   \n",
      "55 2024-01-11 20:30:00  47.758301  47.833101  47.724502  47.802900  47.802900   \n",
      "\n",
      "       volume  \n",
      "49          0  \n",
      "50  284321453  \n",
      "51  224034747  \n",
      "52  195600341  \n",
      "53  183894000  \n",
      "54  245821000  \n",
      "55  361922000  \n",
      "dates: \n",
      "[datetime.time(14, 30), datetime.time(15, 30), datetime.time(16, 30), datetime.time(17, 30), datetime.time(18, 30), datetime.time(19, 30), datetime.time(20, 30)]\n"
     ]
    },
    {
     "name": "stderr",
     "output_type": "stream",
     "text": [
      "d:\\Jiahe\\Cornell\\Fall 2024\\trading challenge\\CTC-2024-Derivatives-main\\starter_code.py:312: SettingWithCopyWarning: \n",
      "A value is trying to be set on a copy of a slice from a DataFrame.\n",
      "Try using .loc[row_indexer,col_indexer] = value instead\n",
      "\n",
      "See the caveats in the documentation: https://pandas.pydata.org/pandas-docs/stable/user_guide/indexing.html#returning-a-view-versus-a-copy\n",
      "  current_prices['time'] = current_prices['date'].dt.time\n",
      "d:\\Jiahe\\Cornell\\Fall 2024\\trading challenge\\CTC-2024-Derivatives-main\\starter_code.py:314: SettingWithCopyWarning: \n",
      "A value is trying to be set on a copy of a slice from a DataFrame.\n",
      "Try using .loc[row_indexer,col_indexer] = value instead\n",
      "\n",
      "See the caveats in the documentation: https://pandas.pydata.org/pandas-docs/stable/user_guide/indexing.html#returning-a-view-versus-a-copy\n",
      "  options_today['time'] = options_today['timestamp'].dt.time\n"
     ]
    },
    {
     "name": "stdout",
     "output_type": "stream",
     "text": [
      "underlying_today: \n",
      "                  date       open       high        low      close  adj close  \\\n",
      "56 2024-01-12 14:30:00  47.911802  48.023999  47.760698  47.808599  47.808599   \n",
      "57 2024-01-12 15:30:00  47.812700  47.853301  47.689800  47.821699  47.821699   \n",
      "58 2024-01-12 16:30:00  47.822300  47.842998  47.702500  47.754902  47.754902   \n",
      "59 2024-01-12 17:30:00  47.754800  47.835400  47.729600  47.822998  47.822998   \n",
      "60 2024-01-12 18:30:00  47.822700  47.895200  47.812100  47.856602  47.856602   \n",
      "61 2024-01-12 19:30:00  47.856299  47.856602  47.741401  47.782402  47.782402   \n",
      "62 2024-01-12 20:30:00  47.781899  47.853599  47.770698  47.831401  47.831401   \n",
      "\n",
      "       volume  \n",
      "56          0  \n",
      "57  293340817  \n",
      "58  222679309  \n",
      "59  177022613  \n",
      "60  173522000  \n",
      "61  219760000  \n",
      "62  330327000  \n",
      "dates: \n",
      "[datetime.time(14, 30), datetime.time(15, 30), datetime.time(16, 30), datetime.time(17, 30), datetime.time(18, 30), datetime.time(19, 30), datetime.time(20, 30)]\n"
     ]
    },
    {
     "name": "stderr",
     "output_type": "stream",
     "text": [
      "d:\\Jiahe\\Cornell\\Fall 2024\\trading challenge\\CTC-2024-Derivatives-main\\starter_code.py:312: SettingWithCopyWarning: \n",
      "A value is trying to be set on a copy of a slice from a DataFrame.\n",
      "Try using .loc[row_indexer,col_indexer] = value instead\n",
      "\n",
      "See the caveats in the documentation: https://pandas.pydata.org/pandas-docs/stable/user_guide/indexing.html#returning-a-view-versus-a-copy\n",
      "  current_prices['time'] = current_prices['date'].dt.time\n",
      "d:\\Jiahe\\Cornell\\Fall 2024\\trading challenge\\CTC-2024-Derivatives-main\\starter_code.py:314: SettingWithCopyWarning: \n",
      "A value is trying to be set on a copy of a slice from a DataFrame.\n",
      "Try using .loc[row_indexer,col_indexer] = value instead\n",
      "\n",
      "See the caveats in the documentation: https://pandas.pydata.org/pandas-docs/stable/user_guide/indexing.html#returning-a-view-versus-a-copy\n",
      "  options_today['time'] = options_today['timestamp'].dt.time\n"
     ]
    },
    {
     "name": "stdout",
     "output_type": "stream",
     "text": [
      "underlying_today: \n",
      "                  date       open       high        low      close  adj close  \\\n",
      "63 2024-01-16 14:30:00  47.723501  47.787100  47.518799  47.767202  47.767202   \n",
      "64 2024-01-16 15:30:00  47.764502  47.823398  47.633301  47.754902  47.754902   \n",
      "65 2024-01-16 16:30:00  47.755498  47.803501  47.599502  47.606299  47.606299   \n",
      "66 2024-01-16 17:30:00  47.606099  47.675498  47.551401  47.660601  47.660601   \n",
      "67 2024-01-16 18:30:00  47.660698  47.676899  47.471201  47.522002  47.522002   \n",
      "68 2024-01-16 19:30:00  47.522202  47.612798  47.503999  47.567998  47.567998   \n",
      "69 2024-01-16 20:30:00  47.568198  47.665000  47.545000  47.651802  47.651802   \n",
      "\n",
      "       volume  \n",
      "63          0  \n",
      "64  346274558  \n",
      "65  230626676  \n",
      "66  210969000  \n",
      "67  215197000  \n",
      "68  242432000  \n",
      "69  367742000  \n",
      "dates: \n",
      "[datetime.time(14, 30), datetime.time(15, 30), datetime.time(16, 30), datetime.time(17, 30), datetime.time(18, 30), datetime.time(19, 30), datetime.time(20, 30)]\n"
     ]
    },
    {
     "name": "stderr",
     "output_type": "stream",
     "text": [
      "d:\\Jiahe\\Cornell\\Fall 2024\\trading challenge\\CTC-2024-Derivatives-main\\starter_code.py:312: SettingWithCopyWarning: \n",
      "A value is trying to be set on a copy of a slice from a DataFrame.\n",
      "Try using .loc[row_indexer,col_indexer] = value instead\n",
      "\n",
      "See the caveats in the documentation: https://pandas.pydata.org/pandas-docs/stable/user_guide/indexing.html#returning-a-view-versus-a-copy\n",
      "  current_prices['time'] = current_prices['date'].dt.time\n",
      "d:\\Jiahe\\Cornell\\Fall 2024\\trading challenge\\CTC-2024-Derivatives-main\\starter_code.py:314: SettingWithCopyWarning: \n",
      "A value is trying to be set on a copy of a slice from a DataFrame.\n",
      "Try using .loc[row_indexer,col_indexer] = value instead\n",
      "\n",
      "See the caveats in the documentation: https://pandas.pydata.org/pandas-docs/stable/user_guide/indexing.html#returning-a-view-versus-a-copy\n",
      "  options_today['time'] = options_today['timestamp'].dt.time\n"
     ]
    },
    {
     "name": "stdout",
     "output_type": "stream",
     "text": [
      "underlying_today: \n",
      "                  date       open       high        low      close  adj close  \\\n",
      "70 2024-01-17 14:30:00  47.391299  47.391299  47.261201  47.344102  47.344102   \n",
      "71 2024-01-17 15:30:00  47.343198  47.440400  47.312500  47.413398  47.413398   \n",
      "72 2024-01-17 16:30:00  47.412700  47.442300  47.300400  47.311299  47.311299   \n",
      "73 2024-01-17 17:30:00  47.311401  47.359102  47.209600  47.229902  47.229902   \n",
      "74 2024-01-17 18:30:00  47.229902  47.297100  47.148198  47.283901  47.283901   \n",
      "75 2024-01-17 19:30:00  47.283901  47.335400  47.231899  47.247402  47.247402   \n",
      "76 2024-01-17 20:30:00  47.247402  47.418999  47.245098  47.390000  47.390000   \n",
      "\n",
      "       volume  \n",
      "70          0  \n",
      "71  289062653  \n",
      "72  217903319  \n",
      "73  188194436  \n",
      "74  213153000  \n",
      "75  250168000  \n",
      "76  348289000  \n",
      "dates: \n",
      "[datetime.time(14, 30), datetime.time(15, 30), datetime.time(16, 30), datetime.time(17, 30), datetime.time(18, 30), datetime.time(19, 30), datetime.time(20, 30)]\n"
     ]
    },
    {
     "name": "stderr",
     "output_type": "stream",
     "text": [
      "d:\\Jiahe\\Cornell\\Fall 2024\\trading challenge\\CTC-2024-Derivatives-main\\starter_code.py:312: SettingWithCopyWarning: \n",
      "A value is trying to be set on a copy of a slice from a DataFrame.\n",
      "Try using .loc[row_indexer,col_indexer] = value instead\n",
      "\n",
      "See the caveats in the documentation: https://pandas.pydata.org/pandas-docs/stable/user_guide/indexing.html#returning-a-view-versus-a-copy\n",
      "  current_prices['time'] = current_prices['date'].dt.time\n",
      "d:\\Jiahe\\Cornell\\Fall 2024\\trading challenge\\CTC-2024-Derivatives-main\\starter_code.py:314: SettingWithCopyWarning: \n",
      "A value is trying to be set on a copy of a slice from a DataFrame.\n",
      "Try using .loc[row_indexer,col_indexer] = value instead\n",
      "\n",
      "See the caveats in the documentation: https://pandas.pydata.org/pandas-docs/stable/user_guide/indexing.html#returning-a-view-versus-a-copy\n",
      "  options_today['time'] = options_today['timestamp'].dt.time\n"
     ]
    },
    {
     "name": "stdout",
     "output_type": "stream",
     "text": [
      "underlying_today: \n",
      "                  date       open       high        low      close  adj close  \\\n",
      "77 2024-01-18 14:30:00  47.601001  47.605898  47.499102  47.576499  47.576499   \n",
      "78 2024-01-18 15:30:00  47.577100  47.644302  47.527202  47.630898  47.630898   \n",
      "79 2024-01-18 16:30:00  47.630498  47.661001  47.463999  47.516099  47.516099   \n",
      "80 2024-01-18 17:30:00  47.516299  47.523398  47.405698  47.432500  47.432500   \n",
      "81 2024-01-18 18:30:00  47.432202  47.723501  47.429302  47.723301  47.723301   \n",
      "82 2024-01-18 19:30:00  47.721499  47.797202  47.656602  47.797202  47.797202   \n",
      "83 2024-01-18 20:30:00  47.797598  47.857900  47.751201  47.805298  47.805298   \n",
      "\n",
      "       volume  \n",
      "77          0  \n",
      "78  313408709  \n",
      "79  265019469  \n",
      "80  215760000  \n",
      "81  232768000  \n",
      "82  281119000  \n",
      "83  379404000  \n",
      "dates: \n",
      "[datetime.time(14, 30), datetime.time(15, 30), datetime.time(16, 30), datetime.time(17, 30), datetime.time(18, 30), datetime.time(19, 30), datetime.time(20, 30)]\n"
     ]
    },
    {
     "name": "stderr",
     "output_type": "stream",
     "text": [
      "d:\\Jiahe\\Cornell\\Fall 2024\\trading challenge\\CTC-2024-Derivatives-main\\starter_code.py:312: SettingWithCopyWarning: \n",
      "A value is trying to be set on a copy of a slice from a DataFrame.\n",
      "Try using .loc[row_indexer,col_indexer] = value instead\n",
      "\n",
      "See the caveats in the documentation: https://pandas.pydata.org/pandas-docs/stable/user_guide/indexing.html#returning-a-view-versus-a-copy\n",
      "  current_prices['time'] = current_prices['date'].dt.time\n",
      "d:\\Jiahe\\Cornell\\Fall 2024\\trading challenge\\CTC-2024-Derivatives-main\\starter_code.py:314: SettingWithCopyWarning: \n",
      "A value is trying to be set on a copy of a slice from a DataFrame.\n",
      "Try using .loc[row_indexer,col_indexer] = value instead\n",
      "\n",
      "See the caveats in the documentation: https://pandas.pydata.org/pandas-docs/stable/user_guide/indexing.html#returning-a-view-versus-a-copy\n",
      "  options_today['time'] = options_today['timestamp'].dt.time\n"
     ]
    },
    {
     "name": "stdout",
     "output_type": "stream",
     "text": [
      "underlying_today: \n",
      "                  date       open       high        low      close  adj close  \\\n",
      "84 2024-01-19 14:30:00  47.962798  47.993301  47.858701  47.957900  47.957900   \n",
      "85 2024-01-19 15:30:00  47.956201  48.072202  47.895801  48.044502  48.044502   \n",
      "86 2024-01-19 16:30:00  48.045000  48.100400  47.977300  48.091299  48.091299   \n",
      "87 2024-01-19 17:30:00  48.091401  48.256299  48.091401  48.252202  48.252202   \n",
      "88 2024-01-19 18:30:00  48.252202  48.420698  48.252202  48.353799  48.353799   \n",
      "89 2024-01-19 19:30:00  48.354399  48.409600  48.291899  48.369800  48.369800   \n",
      "90 2024-01-19 20:30:00  48.370801  48.401099  48.346099  48.389600  48.389600   \n",
      "\n",
      "       volume  \n",
      "84          0  \n",
      "85  298657283  \n",
      "86  246317524  \n",
      "87  231600000  \n",
      "88  251293000  \n",
      "89  291628000  \n",
      "90  410525000  \n",
      "dates: \n",
      "[datetime.time(14, 30), datetime.time(15, 30), datetime.time(16, 30), datetime.time(17, 30), datetime.time(18, 30), datetime.time(19, 30), datetime.time(20, 30)]\n"
     ]
    },
    {
     "name": "stderr",
     "output_type": "stream",
     "text": [
      "d:\\Jiahe\\Cornell\\Fall 2024\\trading challenge\\CTC-2024-Derivatives-main\\starter_code.py:312: SettingWithCopyWarning: \n",
      "A value is trying to be set on a copy of a slice from a DataFrame.\n",
      "Try using .loc[row_indexer,col_indexer] = value instead\n",
      "\n",
      "See the caveats in the documentation: https://pandas.pydata.org/pandas-docs/stable/user_guide/indexing.html#returning-a-view-versus-a-copy\n",
      "  current_prices['time'] = current_prices['date'].dt.time\n",
      "d:\\Jiahe\\Cornell\\Fall 2024\\trading challenge\\CTC-2024-Derivatives-main\\starter_code.py:314: SettingWithCopyWarning: \n",
      "A value is trying to be set on a copy of a slice from a DataFrame.\n",
      "Try using .loc[row_indexer,col_indexer] = value instead\n",
      "\n",
      "See the caveats in the documentation: https://pandas.pydata.org/pandas-docs/stable/user_guide/indexing.html#returning-a-view-versus-a-copy\n",
      "  options_today['time'] = options_today['timestamp'].dt.time\n"
     ]
    },
    {
     "name": "stdout",
     "output_type": "stream",
     "text": [
      "underlying_today: \n",
      "                  date       open       high        low      close  adj close  \\\n",
      "91 2024-01-22 14:30:00  48.534199  48.684102  48.534199  48.590298  48.590298   \n",
      "92 2024-01-22 15:30:00  48.592002  48.594399  48.471899  48.561802  48.561802   \n",
      "93 2024-01-22 16:30:00  48.563599  48.576299  48.487900  48.549102  48.549102   \n",
      "94 2024-01-22 17:30:00  48.549199  48.560498  48.440498  48.447998  48.447998   \n",
      "95 2024-01-22 18:30:00  48.446802  48.555801  48.445400  48.515698  48.515698   \n",
      "96 2024-01-22 19:30:00  48.515400  48.574302  48.486201  48.568101  48.568101   \n",
      "97 2024-01-22 20:30:00  48.568198  48.573799  48.497202  48.506201  48.506201   \n",
      "\n",
      "       volume  \n",
      "91          0  \n",
      "92  346325944  \n",
      "93  238158744  \n",
      "94  207136000  \n",
      "95  203414000  \n",
      "96  249930000  \n",
      "97  364710000  \n",
      "dates: \n",
      "[datetime.time(14, 30), datetime.time(15, 30), datetime.time(16, 30), datetime.time(17, 30), datetime.time(18, 30), datetime.time(19, 30), datetime.time(20, 30)]\n"
     ]
    },
    {
     "name": "stderr",
     "output_type": "stream",
     "text": [
      "d:\\Jiahe\\Cornell\\Fall 2024\\trading challenge\\CTC-2024-Derivatives-main\\starter_code.py:312: SettingWithCopyWarning: \n",
      "A value is trying to be set on a copy of a slice from a DataFrame.\n",
      "Try using .loc[row_indexer,col_indexer] = value instead\n",
      "\n",
      "See the caveats in the documentation: https://pandas.pydata.org/pandas-docs/stable/user_guide/indexing.html#returning-a-view-versus-a-copy\n",
      "  current_prices['time'] = current_prices['date'].dt.time\n",
      "d:\\Jiahe\\Cornell\\Fall 2024\\trading challenge\\CTC-2024-Derivatives-main\\starter_code.py:314: SettingWithCopyWarning: \n",
      "A value is trying to be set on a copy of a slice from a DataFrame.\n",
      "Try using .loc[row_indexer,col_indexer] = value instead\n",
      "\n",
      "See the caveats in the documentation: https://pandas.pydata.org/pandas-docs/stable/user_guide/indexing.html#returning-a-view-versus-a-copy\n",
      "  options_today['time'] = options_today['timestamp'].dt.time\n"
     ]
    },
    {
     "name": "stdout",
     "output_type": "stream",
     "text": [
      "underlying_today: \n",
      "                   date       open       high        low      close  \\\n",
      "98  2024-01-23 14:30:00  48.567998  48.589800  48.504302  48.541099   \n",
      "99  2024-01-23 15:30:00  48.542002  48.543198  48.447998  48.458999   \n",
      "100 2024-01-23 16:30:00  48.458501  48.510200  48.443701  48.477798   \n",
      "101 2024-01-23 17:30:00  48.477998  48.553301  48.464199  48.529600   \n",
      "102 2024-01-23 18:30:00  48.530498  48.560498  48.511499  48.534800   \n",
      "103 2024-01-23 19:30:00  48.535000  48.647798  48.519800  48.621802   \n",
      "104 2024-01-23 20:30:00  48.620898  48.664800  48.588999  48.640698   \n",
      "\n",
      "     adj close     volume  \n",
      "98   48.541099  491511247  \n",
      "99   48.458999  318410331  \n",
      "100  48.477798  234240422  \n",
      "101  48.529600  195645000  \n",
      "102  48.534800  195837000  \n",
      "103  48.621802  253554000  \n",
      "104  48.640698  368339000  \n",
      "dates: \n",
      "[datetime.time(14, 30), datetime.time(15, 30), datetime.time(16, 30), datetime.time(17, 30), datetime.time(18, 30), datetime.time(19, 30), datetime.time(20, 30)]\n"
     ]
    },
    {
     "name": "stderr",
     "output_type": "stream",
     "text": [
      "d:\\Jiahe\\Cornell\\Fall 2024\\trading challenge\\CTC-2024-Derivatives-main\\starter_code.py:312: SettingWithCopyWarning: \n",
      "A value is trying to be set on a copy of a slice from a DataFrame.\n",
      "Try using .loc[row_indexer,col_indexer] = value instead\n",
      "\n",
      "See the caveats in the documentation: https://pandas.pydata.org/pandas-docs/stable/user_guide/indexing.html#returning-a-view-versus-a-copy\n",
      "  current_prices['time'] = current_prices['date'].dt.time\n",
      "d:\\Jiahe\\Cornell\\Fall 2024\\trading challenge\\CTC-2024-Derivatives-main\\starter_code.py:314: SettingWithCopyWarning: \n",
      "A value is trying to be set on a copy of a slice from a DataFrame.\n",
      "Try using .loc[row_indexer,col_indexer] = value instead\n",
      "\n",
      "See the caveats in the documentation: https://pandas.pydata.org/pandas-docs/stable/user_guide/indexing.html#returning-a-view-versus-a-copy\n",
      "  options_today['time'] = options_today['timestamp'].dt.time\n"
     ]
    },
    {
     "name": "stdout",
     "output_type": "stream",
     "text": [
      "underlying_today: \n",
      "                   date       open       high        low      close  \\\n",
      "105 2024-01-24 14:30:00  48.885601  48.936001  48.800601  48.908701   \n",
      "106 2024-01-24 15:30:00  48.909502  49.012900  48.898198  48.952300   \n",
      "107 2024-01-24 16:30:00  48.952500  49.007100  48.928999  48.989302   \n",
      "108 2024-01-24 17:30:00  48.990298  49.036802  48.907798  48.959399   \n",
      "109 2024-01-24 18:30:00  48.959302  48.961099  48.757202  48.777100   \n",
      "110 2024-01-24 19:30:00  48.776602  48.861401  48.697598  48.704600   \n",
      "111 2024-01-24 20:30:00  48.705000  48.794502  48.659399  48.690298   \n",
      "\n",
      "     adj close     volume  \n",
      "105  48.908701          0  \n",
      "106  48.952300  321945830  \n",
      "107  48.989302  247285222  \n",
      "108  48.959399  243063000  \n",
      "109  48.777100  242723000  \n",
      "110  48.704600  292598000  \n",
      "111  48.690298  393615000  \n",
      "dates: \n",
      "[datetime.time(14, 30), datetime.time(15, 30), datetime.time(16, 30), datetime.time(17, 30), datetime.time(18, 30), datetime.time(19, 30), datetime.time(20, 30)]\n"
     ]
    },
    {
     "name": "stderr",
     "output_type": "stream",
     "text": [
      "d:\\Jiahe\\Cornell\\Fall 2024\\trading challenge\\CTC-2024-Derivatives-main\\starter_code.py:312: SettingWithCopyWarning: \n",
      "A value is trying to be set on a copy of a slice from a DataFrame.\n",
      "Try using .loc[row_indexer,col_indexer] = value instead\n",
      "\n",
      "See the caveats in the documentation: https://pandas.pydata.org/pandas-docs/stable/user_guide/indexing.html#returning-a-view-versus-a-copy\n",
      "  current_prices['time'] = current_prices['date'].dt.time\n",
      "d:\\Jiahe\\Cornell\\Fall 2024\\trading challenge\\CTC-2024-Derivatives-main\\starter_code.py:314: SettingWithCopyWarning: \n",
      "A value is trying to be set on a copy of a slice from a DataFrame.\n",
      "Try using .loc[row_indexer,col_indexer] = value instead\n",
      "\n",
      "See the caveats in the documentation: https://pandas.pydata.org/pandas-docs/stable/user_guide/indexing.html#returning-a-view-versus-a-copy\n",
      "  options_today['time'] = options_today['timestamp'].dt.time\n"
     ]
    },
    {
     "name": "stdout",
     "output_type": "stream",
     "text": [
      "underlying_today: \n",
      "                   date       open       high        low      close  \\\n",
      "112 2024-01-25 14:30:00  48.866602  48.981499  48.828101  48.958799   \n",
      "113 2024-01-25 15:30:00  48.959502  48.967998  48.836001  48.932598   \n",
      "114 2024-01-25 16:30:00  48.932798  48.960801  48.799902  48.818501   \n",
      "115 2024-01-25 17:30:00  48.818599  48.884199  48.759800  48.780000   \n",
      "116 2024-01-25 18:30:00  48.779800  48.834502  48.693398  48.769199   \n",
      "117 2024-01-25 19:30:00  48.769199  48.837798  48.734302  48.806499   \n",
      "118 2024-01-25 20:30:00  48.806602  48.950498  48.798198  48.950498   \n",
      "\n",
      "     adj close     volume  \n",
      "112  48.958799          0  \n",
      "113  48.932598  341873807  \n",
      "114  48.818501  289496317  \n",
      "115  48.780000  280410000  \n",
      "116  48.769199  271747000  \n",
      "117  48.806499  291052000  \n",
      "118  48.950498  421124000  \n",
      "dates: \n",
      "[datetime.time(14, 30), datetime.time(15, 30), datetime.time(16, 30), datetime.time(17, 30), datetime.time(18, 30), datetime.time(19, 30), datetime.time(20, 30)]\n"
     ]
    },
    {
     "name": "stderr",
     "output_type": "stream",
     "text": [
      "d:\\Jiahe\\Cornell\\Fall 2024\\trading challenge\\CTC-2024-Derivatives-main\\starter_code.py:312: SettingWithCopyWarning: \n",
      "A value is trying to be set on a copy of a slice from a DataFrame.\n",
      "Try using .loc[row_indexer,col_indexer] = value instead\n",
      "\n",
      "See the caveats in the documentation: https://pandas.pydata.org/pandas-docs/stable/user_guide/indexing.html#returning-a-view-versus-a-copy\n",
      "  current_prices['time'] = current_prices['date'].dt.time\n",
      "d:\\Jiahe\\Cornell\\Fall 2024\\trading challenge\\CTC-2024-Derivatives-main\\starter_code.py:314: SettingWithCopyWarning: \n",
      "A value is trying to be set on a copy of a slice from a DataFrame.\n",
      "Try using .loc[row_indexer,col_indexer] = value instead\n",
      "\n",
      "See the caveats in the documentation: https://pandas.pydata.org/pandas-docs/stable/user_guide/indexing.html#returning-a-view-versus-a-copy\n",
      "  options_today['time'] = options_today['timestamp'].dt.time\n"
     ]
    },
    {
     "name": "stdout",
     "output_type": "stream",
     "text": [
      "underlying_today: \n",
      "                   date       open       high        low      close  \\\n",
      "119 2024-01-26 14:30:00  48.889102  48.979399  48.858599  48.973999   \n",
      "120 2024-01-26 15:30:00  48.973501  49.066899  48.966899  49.024102   \n",
      "121 2024-01-26 16:30:00  49.024399  49.044399  48.966001  48.993999   \n",
      "122 2024-01-26 17:30:00  48.994800  48.994800  48.829302  48.892202   \n",
      "123 2024-01-26 18:30:00  48.893701  48.903901  48.814702  48.874199   \n",
      "124 2024-01-26 19:30:00  48.873701  48.967402  48.852202  48.900698   \n",
      "125 2024-01-26 20:30:00  48.900898  48.926602  48.862402  48.900698   \n",
      "\n",
      "     adj close     volume  \n",
      "119  48.973999  489154910  \n",
      "120  49.024102  292062744  \n",
      "121  48.993999  235557346  \n",
      "122  48.892202  211853000  \n",
      "123  48.874199  196545000  \n",
      "124  48.900698  236802000  \n",
      "125  48.900698  365677000  \n",
      "dates: \n",
      "[datetime.time(14, 30), datetime.time(15, 30), datetime.time(16, 30), datetime.time(17, 30), datetime.time(18, 30), datetime.time(19, 30), datetime.time(20, 30)]\n"
     ]
    },
    {
     "name": "stderr",
     "output_type": "stream",
     "text": [
      "d:\\Jiahe\\Cornell\\Fall 2024\\trading challenge\\CTC-2024-Derivatives-main\\starter_code.py:312: SettingWithCopyWarning: \n",
      "A value is trying to be set on a copy of a slice from a DataFrame.\n",
      "Try using .loc[row_indexer,col_indexer] = value instead\n",
      "\n",
      "See the caveats in the documentation: https://pandas.pydata.org/pandas-docs/stable/user_guide/indexing.html#returning-a-view-versus-a-copy\n",
      "  current_prices['time'] = current_prices['date'].dt.time\n",
      "d:\\Jiahe\\Cornell\\Fall 2024\\trading challenge\\CTC-2024-Derivatives-main\\starter_code.py:314: SettingWithCopyWarning: \n",
      "A value is trying to be set on a copy of a slice from a DataFrame.\n",
      "Try using .loc[row_indexer,col_indexer] = value instead\n",
      "\n",
      "See the caveats in the documentation: https://pandas.pydata.org/pandas-docs/stable/user_guide/indexing.html#returning-a-view-versus-a-copy\n",
      "  options_today['time'] = options_today['timestamp'].dt.time\n"
     ]
    },
    {
     "name": "stdout",
     "output_type": "stream",
     "text": [
      "underlying_today: \n",
      "                   date       open       high        low      close  \\\n",
      "126 2024-01-29 14:30:00  48.929502  48.984399  48.899600  48.923101   \n",
      "127 2024-01-29 15:30:00  48.924600  48.949102  48.878901  48.935498   \n",
      "128 2024-01-29 16:30:00  48.933799  49.004800  48.932798  48.981899   \n",
      "129 2024-01-29 17:30:00  48.982700  49.014800  48.945698  48.998999   \n",
      "130 2024-01-29 18:30:00  48.998999  49.046899  48.967798  49.035098   \n",
      "131 2024-01-29 19:30:00  49.035098  49.293101  49.031201  49.251099   \n",
      "132 2024-01-29 20:30:00  49.251299  49.290601  49.198999  49.281001   \n",
      "\n",
      "     adj close     volume  \n",
      "126  48.923101          0  \n",
      "127  48.935498  268984587  \n",
      "128  48.981899  216848565  \n",
      "129  48.998999  189757884  \n",
      "130  49.035098  183841000  \n",
      "131  49.251099  279159000  \n",
      "132  49.281001  360625000  \n",
      "dates: \n",
      "[datetime.time(14, 30), datetime.time(15, 30), datetime.time(16, 30), datetime.time(17, 30), datetime.time(18, 30), datetime.time(19, 30), datetime.time(20, 30)]\n"
     ]
    },
    {
     "name": "stderr",
     "output_type": "stream",
     "text": [
      "d:\\Jiahe\\Cornell\\Fall 2024\\trading challenge\\CTC-2024-Derivatives-main\\starter_code.py:312: SettingWithCopyWarning: \n",
      "A value is trying to be set on a copy of a slice from a DataFrame.\n",
      "Try using .loc[row_indexer,col_indexer] = value instead\n",
      "\n",
      "See the caveats in the documentation: https://pandas.pydata.org/pandas-docs/stable/user_guide/indexing.html#returning-a-view-versus-a-copy\n",
      "  current_prices['time'] = current_prices['date'].dt.time\n",
      "d:\\Jiahe\\Cornell\\Fall 2024\\trading challenge\\CTC-2024-Derivatives-main\\starter_code.py:314: SettingWithCopyWarning: \n",
      "A value is trying to be set on a copy of a slice from a DataFrame.\n",
      "Try using .loc[row_indexer,col_indexer] = value instead\n",
      "\n",
      "See the caveats in the documentation: https://pandas.pydata.org/pandas-docs/stable/user_guide/indexing.html#returning-a-view-versus-a-copy\n",
      "  options_today['time'] = options_today['timestamp'].dt.time\n"
     ]
    },
    {
     "name": "stdout",
     "output_type": "stream",
     "text": [
      "underlying_today: \n",
      "                   date       open       high        low      close  \\\n",
      "133 2024-01-30 14:30:00  49.258901  49.295200  49.190601  49.230098   \n",
      "134 2024-01-30 15:30:00  49.230000  49.262402  49.187798  49.257100   \n",
      "135 2024-01-30 16:30:00  49.257402  49.300498  49.205498  49.209102   \n",
      "136 2024-01-30 17:30:00  49.209502  49.244502  49.162700  49.240801   \n",
      "137 2024-01-30 18:30:00  49.241001  49.279902  49.199399  49.273198   \n",
      "138 2024-01-30 19:30:00  49.273799  49.310898  49.249702  49.291602   \n",
      "139 2024-01-30 20:30:00  49.291401  49.296201  49.229199  49.246201   \n",
      "\n",
      "     adj close     volume  \n",
      "133  49.230098          0  \n",
      "134  49.257100  309572971  \n",
      "135  49.209102  256057121  \n",
      "136  49.240801  223249000  \n",
      "137  49.273198  229234000  \n",
      "138  49.291602  257360000  \n",
      "139  49.246201  362788000  \n",
      "dates: \n",
      "[datetime.time(14, 30), datetime.time(15, 30), datetime.time(16, 30), datetime.time(17, 30), datetime.time(18, 30), datetime.time(19, 30), datetime.time(20, 30)]\n"
     ]
    },
    {
     "name": "stderr",
     "output_type": "stream",
     "text": [
      "d:\\Jiahe\\Cornell\\Fall 2024\\trading challenge\\CTC-2024-Derivatives-main\\starter_code.py:312: SettingWithCopyWarning: \n",
      "A value is trying to be set on a copy of a slice from a DataFrame.\n",
      "Try using .loc[row_indexer,col_indexer] = value instead\n",
      "\n",
      "See the caveats in the documentation: https://pandas.pydata.org/pandas-docs/stable/user_guide/indexing.html#returning-a-view-versus-a-copy\n",
      "  current_prices['time'] = current_prices['date'].dt.time\n",
      "d:\\Jiahe\\Cornell\\Fall 2024\\trading challenge\\CTC-2024-Derivatives-main\\starter_code.py:314: SettingWithCopyWarning: \n",
      "A value is trying to be set on a copy of a slice from a DataFrame.\n",
      "Try using .loc[row_indexer,col_indexer] = value instead\n",
      "\n",
      "See the caveats in the documentation: https://pandas.pydata.org/pandas-docs/stable/user_guide/indexing.html#returning-a-view-versus-a-copy\n",
      "  options_today['time'] = options_today['timestamp'].dt.time\n"
     ]
    }
   ],
   "source": [
    "from datetime import datetime\n",
    "from backtester import Backtester\n",
    "from starter_code import Strategy\n",
    "\n",
    "start = datetime(2024, 1, 1)\n",
    "end = datetime(2024, 3, 30)\n",
    "s = Strategy()\n",
    "b = Backtester(start, end, s)"
   ]
  },
  {
   "cell_type": "code",
   "execution_count": null,
   "metadata": {},
   "outputs": [],
   "source": [
    "b.calculate_pnl()"
   ]
  },
  {
   "cell_type": "code",
   "execution_count": null,
   "metadata": {},
   "outputs": [],
   "source": [
    "b.plot_pnl()"
   ]
  },
  {
   "cell_type": "code",
   "execution_count": null,
   "metadata": {},
   "outputs": [],
   "source": [
    "b.compute_overall_score()"
   ]
  }
 ],
 "metadata": {
  "kernelspec": {
   "display_name": "Python 3",
   "language": "python",
   "name": "python3"
  },
  "language_info": {
   "codemirror_mode": {
    "name": "ipython",
    "version": 3
   },
   "file_extension": ".py",
   "mimetype": "text/x-python",
   "name": "python",
   "nbconvert_exporter": "python",
   "pygments_lexer": "ipython3",
   "version": "3.12.5"
  }
 },
 "nbformat": 4,
 "nbformat_minor": 2
}
